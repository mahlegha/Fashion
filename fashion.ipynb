{
  "nbformat": 4,
  "nbformat_minor": 0,
  "metadata": {
    "colab": {
      "provenance": [],
      "authorship_tag": "ABX9TyORCo312mwYGB7OZcJz2cT8",
      "include_colab_link": true
    },
    "kernelspec": {
      "name": "python3",
      "display_name": "Python 3"
    },
    "language_info": {
      "name": "python"
    }
  },
  "cells": [
    {
      "cell_type": "markdown",
      "metadata": {
        "id": "view-in-github",
        "colab_type": "text"
      },
      "source": [
        "<a href=\"https://colab.research.google.com/github/mahlegha/Fashion/blob/main/fashion.ipynb\" target=\"_parent\"><img src=\"https://colab.research.google.com/assets/colab-badge.svg\" alt=\"Open In Colab\"/></a>"
      ]
    },
    {
      "cell_type": "code",
      "execution_count": null,
      "metadata": {
        "id": "zgef3z0eLgul"
      },
      "outputs": [],
      "source": [
        "import tensorflow as tf\n",
        "import keras\n",
        "from keras.models import Sequential\n",
        "from keras.layers import Dense, Flatten\n",
        "from keras.datasets import fashion_mnist\n",
        "import numpy as np\n",
        "import matplotlib.pyplot as plt"
      ]
    },
    {
      "cell_type": "code",
      "source": [
        "(x_train, y_train), (x_test, y_test) = fashion_mnist.load_data()"
      ],
      "metadata": {
        "id": "59kMk8tSLwFr"
      },
      "execution_count": null,
      "outputs": []
    },
    {
      "cell_type": "code",
      "source": [
        "x_train = x_train / 255\n",
        "x_test = x_test / 255"
      ],
      "metadata": {
        "id": "gwwpmUnaTUX6"
      },
      "execution_count": null,
      "outputs": []
    },
    {
      "cell_type": "code",
      "source": [
        "x_train.shape"
      ],
      "metadata": {
        "colab": {
          "base_uri": "https://localhost:8080/"
        },
        "id": "GARQskrCL1uo",
        "outputId": "dfcc4119-87ff-4f91-f36b-7866225f5cfb"
      },
      "execution_count": null,
      "outputs": [
        {
          "output_type": "execute_result",
          "data": {
            "text/plain": [
              "(60000, 28, 28)"
            ]
          },
          "metadata": {},
          "execution_count": 3
        }
      ]
    },
    {
      "cell_type": "code",
      "source": [
        "model = Sequential()\n",
        "model.add(Flatten(input_shape=(28, 28)))\n",
        "model.add(Dense(128, activation='relu'))\n",
        "model.add(Dense(10))\n",
        "model.compile(loss=tf.keras.losses.SparseCategoricalCrossentropy(from_logits=True), optimizer='adam', metrics=['accuracy'])\n",
        "model.fit(x_train, y_train, epochs=10)"
      ],
      "metadata": {
        "colab": {
          "base_uri": "https://localhost:8080/"
        },
        "id": "sFuvj5g_MDff",
        "outputId": "9671be78-6d13-4ce7-ddfb-af1f3da5a4a6"
      },
      "execution_count": null,
      "outputs": [
        {
          "output_type": "stream",
          "name": "stderr",
          "text": [
            "/usr/local/lib/python3.10/dist-packages/keras/src/layers/reshaping/flatten.py:37: UserWarning: Do not pass an `input_shape`/`input_dim` argument to a layer. When using Sequential models, prefer using an `Input(shape)` object as the first layer in the model instead.\n",
            "  super().__init__(**kwargs)\n"
          ]
        },
        {
          "output_type": "stream",
          "name": "stdout",
          "text": [
            "Epoch 1/10\n",
            "\u001b[1m1875/1875\u001b[0m \u001b[32m━━━━━━━━━━━━━━━━━━━━\u001b[0m\u001b[37m\u001b[0m \u001b[1m7s\u001b[0m 3ms/step - accuracy: 0.7819 - loss: 0.6251\n",
            "Epoch 2/10\n",
            "\u001b[1m1875/1875\u001b[0m \u001b[32m━━━━━━━━━━━━━━━━━━━━\u001b[0m\u001b[37m\u001b[0m \u001b[1m5s\u001b[0m 3ms/step - accuracy: 0.8663 - loss: 0.3752\n",
            "Epoch 3/10\n",
            "\u001b[1m1875/1875\u001b[0m \u001b[32m━━━━━━━━━━━━━━━━━━━━\u001b[0m\u001b[37m\u001b[0m \u001b[1m7s\u001b[0m 4ms/step - accuracy: 0.8781 - loss: 0.3344\n",
            "Epoch 4/10\n",
            "\u001b[1m1875/1875\u001b[0m \u001b[32m━━━━━━━━━━━━━━━━━━━━\u001b[0m\u001b[37m\u001b[0m \u001b[1m5s\u001b[0m 3ms/step - accuracy: 0.8861 - loss: 0.3131\n",
            "Epoch 5/10\n",
            "\u001b[1m1875/1875\u001b[0m \u001b[32m━━━━━━━━━━━━━━━━━━━━\u001b[0m\u001b[37m\u001b[0m \u001b[1m6s\u001b[0m 3ms/step - accuracy: 0.8925 - loss: 0.2928\n",
            "Epoch 6/10\n",
            "\u001b[1m1875/1875\u001b[0m \u001b[32m━━━━━━━━━━━━━━━━━━━━\u001b[0m\u001b[37m\u001b[0m \u001b[1m5s\u001b[0m 3ms/step - accuracy: 0.8963 - loss: 0.2836\n",
            "Epoch 7/10\n",
            "\u001b[1m1875/1875\u001b[0m \u001b[32m━━━━━━━━━━━━━━━━━━━━\u001b[0m\u001b[37m\u001b[0m \u001b[1m12s\u001b[0m 4ms/step - accuracy: 0.9011 - loss: 0.2641\n",
            "Epoch 8/10\n",
            "\u001b[1m1875/1875\u001b[0m \u001b[32m━━━━━━━━━━━━━━━━━━━━\u001b[0m\u001b[37m\u001b[0m \u001b[1m5s\u001b[0m 3ms/step - accuracy: 0.9054 - loss: 0.2548\n",
            "Epoch 9/10\n",
            "\u001b[1m1875/1875\u001b[0m \u001b[32m━━━━━━━━━━━━━━━━━━━━\u001b[0m\u001b[37m\u001b[0m \u001b[1m7s\u001b[0m 4ms/step - accuracy: 0.9092 - loss: 0.2447\n",
            "Epoch 10/10\n",
            "\u001b[1m1875/1875\u001b[0m \u001b[32m━━━━━━━━━━━━━━━━━━━━\u001b[0m\u001b[37m\u001b[0m \u001b[1m8s\u001b[0m 3ms/step - accuracy: 0.9125 - loss: 0.2369\n"
          ]
        },
        {
          "output_type": "execute_result",
          "data": {
            "text/plain": [
              "<keras.src.callbacks.history.History at 0x79ca18038430>"
            ]
          },
          "metadata": {},
          "execution_count": 20
        }
      ]
    },
    {
      "cell_type": "code",
      "source": [
        "class_names = ['t_shirt', 'trouser', 'pullover', 'dress', 'coat',\n",
        "          'sandal', 'shirt', 'sneaker', 'bag', 'ankle_boots']"
      ],
      "metadata": {
        "id": "B5CvTK_jT4ko"
      },
      "execution_count": null,
      "outputs": []
    },
    {
      "cell_type": "code",
      "source": [
        "class_names[y_test[0]]"
      ],
      "metadata": {
        "colab": {
          "base_uri": "https://localhost:8080/",
          "height": 36
        },
        "id": "v7hf4IfZUdd7",
        "outputId": "8ff57d17-1fb0-45bc-ee27-ecfc8c868ab8"
      },
      "execution_count": null,
      "outputs": [
        {
          "output_type": "execute_result",
          "data": {
            "text/plain": [
              "'ankle_boots'"
            ],
            "application/vnd.google.colaboratory.intrinsic+json": {
              "type": "string"
            }
          },
          "metadata": {},
          "execution_count": 22
        }
      ]
    },
    {
      "cell_type": "code",
      "source": [
        "y_test[0]"
      ],
      "metadata": {
        "colab": {
          "base_uri": "https://localhost:8080/"
        },
        "id": "CH-ioBi7UsXk",
        "outputId": "1ee24362-d525-42d1-cdea-4a2f2f61958f"
      },
      "execution_count": null,
      "outputs": [
        {
          "output_type": "execute_result",
          "data": {
            "text/plain": [
              "9"
            ]
          },
          "metadata": {},
          "execution_count": 23
        }
      ]
    },
    {
      "cell_type": "code",
      "source": [
        "out1 = model.predict(x_test0)"
      ],
      "metadata": {
        "colab": {
          "base_uri": "https://localhost:8080/"
        },
        "id": "Q1hgFDWYNu5y",
        "outputId": "4763ff01-4b81-42e6-f66e-428ab667a3b3"
      },
      "execution_count": null,
      "outputs": [
        {
          "output_type": "stream",
          "name": "stdout",
          "text": [
            "\u001b[1m1/1\u001b[0m \u001b[32m━━━━━━━━━━━━━━━━━━━━\u001b[0m\u001b[37m\u001b[0m \u001b[1m0s\u001b[0m 20ms/step\n"
          ]
        }
      ]
    },
    {
      "cell_type": "code",
      "source": [
        "x_test0"
      ],
      "metadata": {
        "colab": {
          "base_uri": "https://localhost:8080/"
        },
        "collapsed": true,
        "id": "1zRl_wmORQZb",
        "outputId": "7d417341-ab26-4877-da51-a836da3111c2"
      },
      "execution_count": null,
      "outputs": [
        {
          "output_type": "execute_result",
          "data": {
            "text/plain": [
              "array([[[0.        , 0.        , 0.        , 0.        , 0.        ,\n",
              "         0.        , 0.        , 0.        , 0.        , 0.        ,\n",
              "         0.        , 0.        , 0.        , 0.        , 0.        ,\n",
              "         0.        , 0.        , 0.        , 0.        , 0.        ,\n",
              "         0.        , 0.        , 0.        , 0.        , 0.        ,\n",
              "         0.        , 0.        , 0.        ],\n",
              "        [0.        , 0.        , 0.        , 0.        , 0.        ,\n",
              "         0.        , 0.        , 0.        , 0.        , 0.        ,\n",
              "         0.        , 0.        , 0.        , 0.        , 0.        ,\n",
              "         0.        , 0.        , 0.        , 0.        , 0.        ,\n",
              "         0.        , 0.        , 0.        , 0.        , 0.        ,\n",
              "         0.        , 0.        , 0.        ],\n",
              "        [0.        , 0.        , 0.        , 0.        , 0.        ,\n",
              "         0.        , 0.        , 0.        , 0.        , 0.        ,\n",
              "         0.        , 0.        , 0.        , 0.        , 0.        ,\n",
              "         0.        , 0.        , 0.        , 0.        , 0.        ,\n",
              "         0.        , 0.        , 0.        , 0.        , 0.        ,\n",
              "         0.        , 0.        , 0.        ],\n",
              "        [0.        , 0.        , 0.        , 0.        , 0.        ,\n",
              "         0.        , 0.        , 0.        , 0.        , 0.        ,\n",
              "         0.        , 0.        , 0.        , 0.        , 0.        ,\n",
              "         0.        , 0.        , 0.        , 0.        , 0.        ,\n",
              "         0.        , 0.        , 0.        , 0.        , 0.        ,\n",
              "         0.        , 0.        , 0.        ],\n",
              "        [0.        , 0.        , 0.        , 0.        , 0.        ,\n",
              "         0.        , 0.        , 0.        , 0.        , 0.        ,\n",
              "         0.        , 0.        , 0.        , 0.        , 0.        ,\n",
              "         0.        , 0.        , 0.        , 0.        , 0.        ,\n",
              "         0.        , 0.        , 0.        , 0.        , 0.        ,\n",
              "         0.        , 0.        , 0.        ],\n",
              "        [0.        , 0.        , 0.        , 0.        , 0.        ,\n",
              "         0.        , 0.        , 0.        , 0.        , 0.        ,\n",
              "         0.        , 0.        , 0.        , 0.        , 0.        ,\n",
              "         0.        , 0.        , 0.        , 0.        , 0.        ,\n",
              "         0.        , 0.        , 0.        , 0.        , 0.        ,\n",
              "         0.        , 0.        , 0.        ],\n",
              "        [0.        , 0.        , 0.        , 0.        , 0.        ,\n",
              "         0.        , 0.        , 0.        , 0.        , 0.        ,\n",
              "         0.        , 0.        , 0.        , 0.        , 0.        ,\n",
              "         0.        , 0.        , 0.        , 0.        , 0.        ,\n",
              "         0.        , 0.        , 0.        , 0.        , 0.        ,\n",
              "         0.        , 0.        , 0.        ],\n",
              "        [0.        , 0.        , 0.        , 0.        , 0.        ,\n",
              "         0.        , 0.        , 0.        , 0.        , 0.        ,\n",
              "         0.        , 0.        , 0.        , 0.        , 0.        ,\n",
              "         0.        , 0.        , 0.        , 0.        , 0.01176471,\n",
              "         0.00392157, 0.        , 0.        , 0.02745098, 0.        ,\n",
              "         0.14509804, 0.        , 0.        ],\n",
              "        [0.        , 0.        , 0.        , 0.        , 0.        ,\n",
              "         0.        , 0.        , 0.        , 0.        , 0.        ,\n",
              "         0.        , 0.        , 0.        , 0.00392157, 0.00784314,\n",
              "         0.        , 0.10588235, 0.32941176, 0.04313725, 0.        ,\n",
              "         0.        , 0.        , 0.        , 0.        , 0.        ,\n",
              "         0.46666667, 0.        , 0.        ],\n",
              "        [0.        , 0.        , 0.        , 0.        , 0.        ,\n",
              "         0.        , 0.        , 0.        , 0.        , 0.        ,\n",
              "         0.        , 0.        , 0.        , 0.00392157, 0.        ,\n",
              "         0.        , 0.34509804, 0.56078431, 0.43137255, 0.        ,\n",
              "         0.        , 0.        , 0.        , 0.08627451, 0.36470588,\n",
              "         0.41568627, 0.        , 0.        ],\n",
              "        [0.        , 0.        , 0.        , 0.        , 0.        ,\n",
              "         0.        , 0.        , 0.        , 0.        , 0.        ,\n",
              "         0.        , 0.        , 0.        , 0.01568627, 0.        ,\n",
              "         0.20784314, 0.50588235, 0.47058824, 0.57647059, 0.68627451,\n",
              "         0.61568627, 0.65098039, 0.52941176, 0.60392157, 0.65882353,\n",
              "         0.54901961, 0.        , 0.        ],\n",
              "        [0.        , 0.        , 0.        , 0.        , 0.        ,\n",
              "         0.        , 0.        , 0.        , 0.        , 0.        ,\n",
              "         0.        , 0.        , 0.00784314, 0.        , 0.04313725,\n",
              "         0.5372549 , 0.50980392, 0.50196078, 0.62745098, 0.69019608,\n",
              "         0.62352941, 0.65490196, 0.69803922, 0.58431373, 0.59215686,\n",
              "         0.56470588, 0.        , 0.        ],\n",
              "        [0.        , 0.        , 0.        , 0.        , 0.        ,\n",
              "         0.        , 0.00392157, 0.        , 0.00784314, 0.00392157,\n",
              "         0.        , 0.01176471, 0.        , 0.        , 0.45098039,\n",
              "         0.44705882, 0.41568627, 0.5372549 , 0.65882353, 0.6       ,\n",
              "         0.61176471, 0.64705882, 0.65490196, 0.56078431, 0.61568627,\n",
              "         0.61960784, 0.04313725, 0.        ],\n",
              "        [0.        , 0.        , 0.        , 0.        , 0.00392157,\n",
              "         0.        , 0.        , 0.        , 0.        , 0.        ,\n",
              "         0.01176471, 0.        , 0.        , 0.34901961, 0.54509804,\n",
              "         0.35294118, 0.36862745, 0.6       , 0.58431373, 0.51372549,\n",
              "         0.59215686, 0.6627451 , 0.6745098 , 0.56078431, 0.62352941,\n",
              "         0.6627451 , 0.18823529, 0.        ],\n",
              "        [0.        , 0.        , 0.        , 0.        , 0.        ,\n",
              "         0.        , 0.00784314, 0.01568627, 0.00392157, 0.        ,\n",
              "         0.        , 0.        , 0.38431373, 0.53333333, 0.43137255,\n",
              "         0.42745098, 0.43137255, 0.63529412, 0.52941176, 0.56470588,\n",
              "         0.58431373, 0.62352941, 0.65490196, 0.56470588, 0.61960784,\n",
              "         0.6627451 , 0.46666667, 0.        ],\n",
              "        [0.        , 0.        , 0.00784314, 0.00784314, 0.00392157,\n",
              "         0.00784314, 0.        , 0.        , 0.        , 0.        ,\n",
              "         0.10196078, 0.42352941, 0.45882353, 0.38823529, 0.43529412,\n",
              "         0.45882353, 0.53333333, 0.61176471, 0.5254902 , 0.60392157,\n",
              "         0.60392157, 0.61176471, 0.62745098, 0.55294118, 0.57647059,\n",
              "         0.61176471, 0.69803922, 0.        ],\n",
              "        [0.01176471, 0.        , 0.        , 0.        , 0.        ,\n",
              "         0.        , 0.        , 0.08235294, 0.20784314, 0.36078431,\n",
              "         0.45882353, 0.43529412, 0.40392157, 0.45098039, 0.50588235,\n",
              "         0.5254902 , 0.56078431, 0.60392157, 0.64705882, 0.66666667,\n",
              "         0.60392157, 0.59215686, 0.60392157, 0.56078431, 0.54117647,\n",
              "         0.58823529, 0.64705882, 0.16862745],\n",
              "        [0.        , 0.        , 0.09019608, 0.21176471, 0.25490196,\n",
              "         0.29803922, 0.33333333, 0.4627451 , 0.50196078, 0.48235294,\n",
              "         0.43529412, 0.44313725, 0.4627451 , 0.49803922, 0.49019608,\n",
              "         0.54509804, 0.52156863, 0.53333333, 0.62745098, 0.54901961,\n",
              "         0.60784314, 0.63137255, 0.56470588, 0.60784314, 0.6745098 ,\n",
              "         0.63137255, 0.74117647, 0.24313725],\n",
              "        [0.        , 0.26666667, 0.36862745, 0.35294118, 0.43529412,\n",
              "         0.44705882, 0.43529412, 0.44705882, 0.45098039, 0.49803922,\n",
              "         0.52941176, 0.53333333, 0.56078431, 0.49411765, 0.49803922,\n",
              "         0.59215686, 0.60392157, 0.56078431, 0.58039216, 0.49019608,\n",
              "         0.63529412, 0.63529412, 0.56470588, 0.54117647, 0.6       ,\n",
              "         0.63529412, 0.76862745, 0.22745098],\n",
              "        [0.2745098 , 0.6627451 , 0.50588235, 0.40784314, 0.38431373,\n",
              "         0.39215686, 0.36862745, 0.38039216, 0.38431373, 0.4       ,\n",
              "         0.42352941, 0.41568627, 0.46666667, 0.47058824, 0.50588235,\n",
              "         0.58431373, 0.61176471, 0.65490196, 0.74509804, 0.74509804,\n",
              "         0.76862745, 0.77647059, 0.77647059, 0.73333333, 0.77254902,\n",
              "         0.74117647, 0.72156863, 0.14117647],\n",
              "        [0.0627451 , 0.49411765, 0.67058824, 0.7372549 , 0.7372549 ,\n",
              "         0.72156863, 0.67058824, 0.6       , 0.52941176, 0.47058824,\n",
              "         0.49411765, 0.49803922, 0.57254902, 0.7254902 , 0.76470588,\n",
              "         0.81960784, 0.81568627, 1.        , 0.81960784, 0.69411765,\n",
              "         0.96078431, 0.98823529, 0.98431373, 0.98431373, 0.96862745,\n",
              "         0.8627451 , 0.80784314, 0.19215686],\n",
              "        [0.        , 0.        , 0.        , 0.04705882, 0.2627451 ,\n",
              "         0.41568627, 0.64313725, 0.7254902 , 0.78039216, 0.82352941,\n",
              "         0.82745098, 0.82352941, 0.81568627, 0.74509804, 0.58823529,\n",
              "         0.32156863, 0.03137255, 0.        , 0.        , 0.        ,\n",
              "         0.69803922, 0.81568627, 0.7372549 , 0.68627451, 0.63529412,\n",
              "         0.61960784, 0.59215686, 0.04313725],\n",
              "        [0.        , 0.        , 0.        , 0.        , 0.        ,\n",
              "         0.        , 0.        , 0.        , 0.        , 0.        ,\n",
              "         0.        , 0.        , 0.        , 0.        , 0.        ,\n",
              "         0.        , 0.        , 0.        , 0.        , 0.        ,\n",
              "         0.        , 0.        , 0.        , 0.        , 0.        ,\n",
              "         0.        , 0.        , 0.        ],\n",
              "        [0.        , 0.        , 0.        , 0.        , 0.        ,\n",
              "         0.        , 0.        , 0.        , 0.        , 0.        ,\n",
              "         0.        , 0.        , 0.        , 0.        , 0.        ,\n",
              "         0.        , 0.        , 0.        , 0.        , 0.        ,\n",
              "         0.        , 0.        , 0.        , 0.        , 0.        ,\n",
              "         0.        , 0.        , 0.        ],\n",
              "        [0.        , 0.        , 0.        , 0.        , 0.        ,\n",
              "         0.        , 0.        , 0.        , 0.        , 0.        ,\n",
              "         0.        , 0.        , 0.        , 0.        , 0.        ,\n",
              "         0.        , 0.        , 0.        , 0.        , 0.        ,\n",
              "         0.        , 0.        , 0.        , 0.        , 0.        ,\n",
              "         0.        , 0.        , 0.        ],\n",
              "        [0.        , 0.        , 0.        , 0.        , 0.        ,\n",
              "         0.        , 0.        , 0.        , 0.        , 0.        ,\n",
              "         0.        , 0.        , 0.        , 0.        , 0.        ,\n",
              "         0.        , 0.        , 0.        , 0.        , 0.        ,\n",
              "         0.        , 0.        , 0.        , 0.        , 0.        ,\n",
              "         0.        , 0.        , 0.        ],\n",
              "        [0.        , 0.        , 0.        , 0.        , 0.        ,\n",
              "         0.        , 0.        , 0.        , 0.        , 0.        ,\n",
              "         0.        , 0.        , 0.        , 0.        , 0.        ,\n",
              "         0.        , 0.        , 0.        , 0.        , 0.        ,\n",
              "         0.        , 0.        , 0.        , 0.        , 0.        ,\n",
              "         0.        , 0.        , 0.        ],\n",
              "        [0.        , 0.        , 0.        , 0.        , 0.        ,\n",
              "         0.        , 0.        , 0.        , 0.        , 0.        ,\n",
              "         0.        , 0.        , 0.        , 0.        , 0.        ,\n",
              "         0.        , 0.        , 0.        , 0.        , 0.        ,\n",
              "         0.        , 0.        , 0.        , 0.        , 0.        ,\n",
              "         0.        , 0.        , 0.        ]]])"
            ]
          },
          "metadata": {},
          "execution_count": 36
        }
      ]
    },
    {
      "cell_type": "code",
      "source": [
        "x_test0 = np.array([x_test[0]])"
      ],
      "metadata": {
        "id": "hEdfvNqhRb7u"
      },
      "execution_count": null,
      "outputs": []
    },
    {
      "cell_type": "code",
      "source": [
        "x_test0.shape"
      ],
      "metadata": {
        "colab": {
          "base_uri": "https://localhost:8080/"
        },
        "id": "7oBGLCf_RkKl",
        "outputId": "3e48af8d-1c84-4592-f654-ece5244aaf2f"
      },
      "execution_count": null,
      "outputs": [
        {
          "output_type": "execute_result",
          "data": {
            "text/plain": [
              "(1, 28, 28)"
            ]
          },
          "metadata": {},
          "execution_count": 38
        }
      ]
    },
    {
      "cell_type": "code",
      "source": [
        "out1"
      ],
      "metadata": {
        "colab": {
          "base_uri": "https://localhost:8080/"
        },
        "id": "G98NI2a3VN5M",
        "outputId": "50b91d82-ede3-4e65-a5cf-639f67542124"
      },
      "execution_count": null,
      "outputs": [
        {
          "output_type": "execute_result",
          "data": {
            "text/plain": [
              "array([[-13.156341 , -10.761173 , -12.193178 , -15.29578  , -10.555336 ,\n",
              "         -2.1612446, -14.588203 ,  -0.8141124, -11.298478 ,   4.780642 ]],\n",
              "      dtype=float32)"
            ]
          },
          "metadata": {},
          "execution_count": 39
        }
      ]
    },
    {
      "cell_type": "code",
      "source": [
        "max(out1)"
      ],
      "metadata": {
        "colab": {
          "base_uri": "https://localhost:8080/"
        },
        "id": "OVW86y5xXMv6",
        "outputId": "164d84ed-3b40-41f9-ed05-a7f6d327f9c9"
      },
      "execution_count": null,
      "outputs": [
        {
          "output_type": "execute_result",
          "data": {
            "text/plain": [
              "array([-13.156341 , -10.761173 , -12.193178 , -15.29578  , -10.555336 ,\n",
              "        -2.1612446, -14.588203 ,  -0.8141124, -11.298478 ,   4.780642 ],\n",
              "      dtype=float32)"
            ]
          },
          "metadata": {},
          "execution_count": 31
        }
      ]
    },
    {
      "cell_type": "code",
      "source": [
        "max(out1[0])"
      ],
      "metadata": {
        "colab": {
          "base_uri": "https://localhost:8080/"
        },
        "id": "pcLMGNEFXR1p",
        "outputId": "6862c8dd-1c63-4245-9d82-15ce78608157"
      },
      "execution_count": null,
      "outputs": [
        {
          "output_type": "execute_result",
          "data": {
            "text/plain": [
              "4.780642"
            ]
          },
          "metadata": {},
          "execution_count": 41
        }
      ]
    },
    {
      "cell_type": "code",
      "source": [
        "m = -1000\n",
        "o = out1[0]\n",
        "idx = -1\n",
        "for i in range(len(o)):\n",
        "  if o[i] > m:\n",
        "    m = o[i]\n",
        "    idx = i\n",
        "\n",
        "print(class_names[idx])"
      ],
      "metadata": {
        "colab": {
          "base_uri": "https://localhost:8080/"
        },
        "id": "FeOJ2n9vWZCe",
        "outputId": "9a533a98-9df4-449b-b524-70f95353204c"
      },
      "execution_count": null,
      "outputs": [
        {
          "output_type": "stream",
          "name": "stdout",
          "text": [
            "ankle_boots\n"
          ]
        }
      ]
    }
  ]
}